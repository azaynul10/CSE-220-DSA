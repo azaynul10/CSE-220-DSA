{
  "nbformat": 4,
  "nbformat_minor": 0,
  "metadata": {
    "colab": {
      "provenance": []
    },
    "kernelspec": {
      "name": "python3",
      "display_name": "Python 3"
    },
    "language_info": {
      "name": "python"
    }
  },
  "cells": [
    {
      "cell_type": "code",
      "execution_count": null,
      "metadata": {
        "id": "Pp1R95Pe7ID2",
        "colab": {
          "base_uri": "https://localhost:8080/"
        },
        "outputId": "477087eb-0349-4fe6-f458-3517bbb2a064"
      },
      "outputs": [
        {
          "output_type": "stream",
          "name": "stdout",
          "text": [
            "Requirement already satisfied: fhm-unittest in /usr/local/lib/python3.10/dist-packages (1.0.1)\n",
            "Requirement already satisfied: fuzzywuzzy in /usr/local/lib/python3.10/dist-packages (0.18.0)\n"
          ]
        },
        {
          "output_type": "stream",
          "name": "stderr",
          "text": [
            "/usr/local/lib/python3.10/dist-packages/fuzzywuzzy/fuzz.py:11: UserWarning: Using slow pure-python SequenceMatcher. Install python-Levenshtein to remove this warning\n",
            "  warnings.warn('Using slow pure-python SequenceMatcher. Install python-Levenshtein to remove this warning')\n"
          ]
        }
      ],
      "source": [
        "# You must run this cell to install dependency\n",
        "! pip3 install fhm-unittest\n",
        "! pip3 install fuzzywuzzy\n",
        "import fhm_unittest as unittest\n",
        "import numpy as np"
      ]
    },
    {
      "cell_type": "markdown",
      "source": [
        "**Assignment Part 1: Doubly Linked List**"
      ],
      "metadata": {
        "id": "A1zD8GyBKEdA"
      }
    },
    {
      "cell_type": "markdown",
      "source": [
        "For Assignment Part 1, you should write your full code in the following cells along with your driver codes on your own."
      ],
      "metadata": {
        "id": "z4q4a-vSNoII"
      }
    },
    {
      "cell_type": "code",
      "source": [
        "#Assignment Part 1\n",
        "\n",
        "class Patient:\n",
        "    def __init__(self, id, name, age, bloodgroup, next=None, prev=None):\n",
        "        self.id = id\n",
        "        self.name = name\n",
        "        self.age = age\n",
        "        self.bloodgroup = bloodgroup\n",
        "        self.next = next\n",
        "        self.prev = prev"
      ],
      "metadata": {
        "id": "itoWpG7oNziA"
      },
      "execution_count": 17,
      "outputs": []
    },
    {
      "cell_type": "code",
      "source": [
        "class WRM:\n",
        "    def __init__(self):\n",
        "        self.dummy = Patient(None, None, None, None)\n",
        "        self.dummy.next = self.dummy.prev = self.dummy\n",
        "\n",
        "    def registerPatient(self, id, name, age, bloodgroup):\n",
        "        new_patient = Patient(id, name, age, bloodgroup, self.dummy, self.dummy.prev)\n",
        "        self.dummy.prev.next = new_patient\n",
        "        self.dummy.prev = new_patient\n",
        "\n",
        "    def servePatient(self):\n",
        "        if self.dummy.next == self.dummy:\n",
        "            print(\"No patients to serve.\")\n",
        "            return\n",
        "        serving_patient = self.dummy.next\n",
        "        print(f\"Patient being served: {serving_patient.name}\")\n",
        "        self.dummy.next = serving_patient.next\n",
        "        serving_patient.next.prev = self.dummy\n",
        "\n",
        "    def showAllPatient(self):\n",
        "        current = self.dummy.next\n",
        "        while current != self.dummy:\n",
        "            print(f\"Patient ID: {current.id}, Name: {current.name}\")\n",
        "            current = current.next\n",
        "\n",
        "    def canDoctorGoHome(self):\n",
        "        return self.dummy.next == self.dummy\n",
        "\n",
        "    def cancelAll(self):\n",
        "        self.dummy.next = self.dummy.prev = self.dummy\n",
        "        print(\"All appointments cancelled.\")\n",
        "\n",
        "    def ReverseTheLine(self):\n",
        "        current = self.dummy.next\n",
        "        while current != self.dummy:\n",
        "            current.next, current.prev = current.prev, current.next\n",
        "            current = current.prev\n",
        "        self.dummy.next, self.dummy.prev = self.dummy.prev, self.dummy.next\n",
        "        print(\"Line reversed.\")"
      ],
      "metadata": {
        "id": "dNx7zTJ1OZNv"
      },
      "execution_count": 18,
      "outputs": []
    },
    {
      "cell_type": "code",
      "source": [
        "#Write a Tester Code in this cell\n",
        "print(\"**Welcome to Waiting Room Management System**\")\n",
        "\n",
        "wrm = WRM()\n",
        "\n",
        "while True:\n",
        "    print(\"\\nOptions:\")\n",
        "    print(\"1. Add Patient\")\n",
        "    print(\"2. Serve Patient\")\n",
        "    print(\"3. Show All Patients\")\n",
        "    print(\"4. Can Doctor Go Home?\")\n",
        "    print(\"5. Cancel All Appointments\")\n",
        "    print(\"6. Reverse The Line\")\n",
        "    print(\"7. Exit\")\n",
        "\n",
        "    choice = input(\"Enter your choice: \")\n",
        "\n",
        "    if choice == '1':\n",
        "        id = int(input(\"Enter patient ID: \"))\n",
        "        name = input(\"Enter patient name: \")\n",
        "        age = int(input(\"Enter patient age: \"))\n",
        "        bloodgroup = input(\"Enter patient bloodgroup: \")\n",
        "        wrm.registerPatient(id, name, age, bloodgroup)\n",
        "        print(\"Patient registered successfully.\")\n",
        "    elif choice == '2':\n",
        "        wrm.servePatient()\n",
        "    elif choice == '3':\n",
        "        wrm.showAllPatient()\n",
        "    elif choice == '4':\n",
        "        if wrm.canDoctorGoHome():\n",
        "            print(\"Yes, the doctor can go home.\")\n",
        "        else:\n",
        "            print(\"No, there are still patients waiting.\")\n",
        "    elif choice == '5':\n",
        "        wrm.cancelAll()\n",
        "        print(\"All appointments cancelled successfully.\")\n",
        "    elif choice == '6':\n",
        "        wrm.ReverseTheLine()\n",
        "        print(\"Line reversed successfully.\")\n",
        "    elif choice == '7':\n",
        "        print(\"Exiting...\")\n",
        "        break\n",
        "    else:\n",
        "        print(\"Invalid choice. Please try again.\")\n"
      ],
      "metadata": {
        "id": "jKhbn1LAPfjr",
        "colab": {
          "base_uri": "https://localhost:8080/"
        },
        "outputId": "020f2e55-6fa9-47c7-ebb5-fc287e4b8c7e"
      },
      "execution_count": 19,
      "outputs": [
        {
          "output_type": "stream",
          "name": "stdout",
          "text": [
            "**Welcome to Waiting Room Management System**\n",
            "\n",
            "Options:\n",
            "1. Add Patient\n",
            "2. Serve Patient\n",
            "3. Show All Patients\n",
            "4. Can Doctor Go Home?\n",
            "5. Cancel All Appointments\n",
            "6. Reverse The Line\n",
            "7. Exit\n",
            "Enter your choice: 1\n",
            "Enter patient ID: 10\n",
            "Enter patient name: habibi\n",
            "Enter patient age: 48\n",
            "Enter patient bloodgroup: O+\n",
            "Patient registered successfully.\n",
            "\n",
            "Options:\n",
            "1. Add Patient\n",
            "2. Serve Patient\n",
            "3. Show All Patients\n",
            "4. Can Doctor Go Home?\n",
            "5. Cancel All Appointments\n",
            "6. Reverse The Line\n",
            "7. Exit\n",
            "Enter your choice: 2\n",
            "Patient being served: habibi\n",
            "\n",
            "Options:\n",
            "1. Add Patient\n",
            "2. Serve Patient\n",
            "3. Show All Patients\n",
            "4. Can Doctor Go Home?\n",
            "5. Cancel All Appointments\n",
            "6. Reverse The Line\n",
            "7. Exit\n",
            "Enter your choice: 3\n",
            "\n",
            "Options:\n",
            "1. Add Patient\n",
            "2. Serve Patient\n",
            "3. Show All Patients\n",
            "4. Can Doctor Go Home?\n",
            "5. Cancel All Appointments\n",
            "6. Reverse The Line\n",
            "7. Exit\n",
            "Enter your choice: 1\n",
            "Enter patient ID: 10\n",
            "Enter patient name: atef\n",
            "Enter patient age: 90\n",
            "Enter patient bloodgroup: O+\n",
            "Patient registered successfully.\n",
            "\n",
            "Options:\n",
            "1. Add Patient\n",
            "2. Serve Patient\n",
            "3. Show All Patients\n",
            "4. Can Doctor Go Home?\n",
            "5. Cancel All Appointments\n",
            "6. Reverse The Line\n",
            "7. Exit\n",
            "Enter your choice: 3\n",
            "Patient ID: 10, Name: atef\n",
            "\n",
            "Options:\n",
            "1. Add Patient\n",
            "2. Serve Patient\n",
            "3. Show All Patients\n",
            "4. Can Doctor Go Home?\n",
            "5. Cancel All Appointments\n",
            "6. Reverse The Line\n",
            "7. Exit\n",
            "Enter your choice: 4\n",
            "No, there are still patients waiting.\n",
            "\n",
            "Options:\n",
            "1. Add Patient\n",
            "2. Serve Patient\n",
            "3. Show All Patients\n",
            "4. Can Doctor Go Home?\n",
            "5. Cancel All Appointments\n",
            "6. Reverse The Line\n",
            "7. Exit\n",
            "Enter your choice: 5\n",
            "All appointments cancelled.\n",
            "All appointments cancelled successfully.\n",
            "\n",
            "Options:\n",
            "1. Add Patient\n",
            "2. Serve Patient\n",
            "3. Show All Patients\n",
            "4. Can Doctor Go Home?\n",
            "5. Cancel All Appointments\n",
            "6. Reverse The Line\n",
            "7. Exit\n",
            "Enter your choice: 7\n",
            "Exiting...\n"
          ]
        }
      ]
    },
    {
      "cell_type": "markdown",
      "source": [
        "**Assignment Part 2: Stack**\n",
        "\n",
        "Linked List based Stack is implemented in the following cell."
      ],
      "metadata": {
        "id": "CJWd_j6YEnPn"
      }
    },
    {
      "cell_type": "code",
      "source": [
        "class Node:\n",
        "  def __init__(self,elem=None,next=None):\n",
        "    self.elem = elem\n",
        "    self.next = next\n",
        "\n",
        "class Stack:\n",
        "  def __init__(self):\n",
        "    self.__top = None\n",
        "\n",
        "  def push(self,elem):\n",
        "    nn = Node(elem,self.__top)\n",
        "    self.__top = nn\n",
        "\n",
        "  def pop(self):\n",
        "    if self.__top == None:\n",
        "      #print('Stack Underflow')\n",
        "      return None\n",
        "    e = self.__top\n",
        "    self.__top = self.__top.next\n",
        "    return e.elem\n",
        "\n",
        "  def peek(self):\n",
        "    if self.__top == None:\n",
        "      #print('Stack Underflow')\n",
        "      return None\n",
        "    return self.__top.elem\n",
        "\n",
        "  def isEmpty(self):\n",
        "    return self.__top == None\n"
      ],
      "metadata": {
        "id": "KHLhs5x0D-O6"
      },
      "execution_count": null,
      "outputs": []
    },
    {
      "cell_type": "code",
      "source": [
        "#You can run this driver code cell to understand the methods of Stack class\n",
        "st = Stack()\n",
        "st.push(4)\n",
        "st.push(3)\n",
        "st.push(5)\n",
        "st.push(1)\n",
        "st.push(9)\n",
        "\n",
        "print('Peeked Element: ',st.peek())\n",
        "print('Popped Element: ',st.pop())\n",
        "print('Popped Element: ',st.pop())\n",
        "print('Popped Element: ',st.pop())\n",
        "print('Peeked Element: ',st.peek())\n",
        "print('Popped Element: ',st.pop())\n",
        "print('Popped Element: ',st.pop())\n",
        "print('Peeked Element: ',st.peek())\n",
        "print('Popped Element: ',st.pop())\n",
        "print(st.isEmpty())"
      ],
      "metadata": {
        "id": "4XkuMA7gEjE7",
        "colab": {
          "base_uri": "https://localhost:8080/"
        },
        "outputId": "c4dc9202-f932-4b0e-a931-e05389d0cc55"
      },
      "execution_count": null,
      "outputs": [
        {
          "output_type": "stream",
          "name": "stdout",
          "text": [
            "Peeked Element:  9\n",
            "Popped Element:  9\n",
            "Popped Element:  1\n",
            "Popped Element:  5\n",
            "Peeked Element:  3\n",
            "Popped Element:  3\n",
            "Popped Element:  4\n",
            "Peeked Element:  None\n",
            "Popped Element:  None\n",
            "True\n"
          ]
        }
      ]
    },
    {
      "cell_type": "markdown",
      "source": [
        "You can print your stack using this code segment"
      ],
      "metadata": {
        "id": "xrfONLccG9Gi"
      }
    },
    {
      "cell_type": "code",
      "source": [
        "def print_stack(st):\n",
        "  if st.isEmpty():\n",
        "    return\n",
        "  p = st.pop()\n",
        "  print('|',p,end=' ')\n",
        "  if p<10:\n",
        "    print(' |')\n",
        "  else:\n",
        "    print('|')\n",
        "  #print('------')\n",
        "  print_stack(st)\n",
        "  st.push(p)\n",
        "\n",
        "# st = Stack()\n",
        "# st.push(4)\n",
        "# st.push(3)\n",
        "# st.push(5)\n",
        "# st.push(1)\n",
        "# st.push(9)\n",
        "# print_stack(st)\n",
        "# print('------')"
      ],
      "metadata": {
        "id": "S-EembO_GsWA"
      },
      "execution_count": null,
      "outputs": []
    },
    {
      "cell_type": "markdown",
      "source": [
        "Task 1: Diamond Count"
      ],
      "metadata": {
        "id": "iNMnfqqpIga2"
      }
    },
    {
      "cell_type": "code",
      "source": [
        "def diamond_count(stack,string):\n",
        "  count=0\n",
        "  for i in string:\n",
        "    if i==\"<\":\n",
        "      stack.push(i)\n",
        "    elif i==\">\" and i!=stack.isEmpty()==False:\n",
        "      stack.pop()\n",
        "      count+=1\n",
        "  return count\n",
        "\n",
        "print('Test 01')\n",
        "stack = Stack()\n",
        "string = '<..><.<..>> '\n",
        "returned_value = diamond_count(stack,string)\n",
        "print(f'Number of Diamonds: {returned_value}') #This should print 3\n",
        "unittest.output_test(returned_value, 3)\n",
        "print('-----------------------------------------')\n",
        "\n",
        "\n",
        "print('Test 02')\n",
        "stack = Stack()\n",
        "string = '<<<..<......<<<<....>'\n",
        "returned_value = diamond_count(stack,string)\n",
        "print(f'Number of Diamonds: {returned_value}') #This should print 1\n",
        "unittest.output_test(returned_value, 1)\n",
        "print('-----------------------------------------')\n",
        "\n",
        "\n",
        "print('Test 03')\n",
        "stack = Stack()\n",
        "string = '>>><...<<..>>...>...>>>'\n",
        "returned_value = diamond_count(stack,string)\n",
        "print(f'Number of Diamonds: {returned_value}') #This should print 3\n",
        "unittest.output_test(returned_value, 3)\n",
        "print('-----------------------------------------')"
      ],
      "metadata": {
        "id": "GnX70OIvG_gZ",
        "colab": {
          "base_uri": "https://localhost:8080/"
        },
        "outputId": "93041d2c-9a2a-4aa4-98ac-34ee0ced112e"
      },
      "execution_count": null,
      "outputs": [
        {
          "output_type": "stream",
          "name": "stdout",
          "text": [
            "Test 01\n",
            "Number of Diamonds: 3\n",
            "Accepted\n",
            "-----------------------------------------\n",
            "Test 02\n",
            "Number of Diamonds: 1\n",
            "Accepted\n",
            "-----------------------------------------\n",
            "Test 03\n",
            "Number of Diamonds: 3\n",
            "Accepted\n",
            "-----------------------------------------\n"
          ]
        }
      ]
    },
    {
      "cell_type": "markdown",
      "source": [
        "Task 2: Tower of Blocks"
      ],
      "metadata": {
        "id": "PhCF3SZ6IX5g"
      }
    },
    {
      "cell_type": "code",
      "source": [
        "def remove_block(stack, n):\n",
        "    temp_stack = Stack()\n",
        "    count = 0\n",
        "    while not stack.isEmpty() and count < n - 1:\n",
        "        temp_stack.push(stack.pop())\n",
        "        count += 1\n",
        "    if count == n - 1 and not stack.isEmpty():\n",
        "        stack.pop()\n",
        "    else:\n",
        "        while not temp_stack.isEmpty():\n",
        "            stack.push(temp_stack.pop())\n",
        "        return\n",
        "    while not temp_stack.isEmpty():\n",
        "        stack.push(temp_stack.pop())\n",
        "\n",
        "\n",
        "print('Test 01')\n",
        "st = Stack()\n",
        "st.push(4)\n",
        "st.push(19)\n",
        "st.push(23)\n",
        "st.push(17)\n",
        "st.push(5)\n",
        "print('Stack:')\n",
        "print_stack(st)\n",
        "print('------')\n",
        "remove_block(st,2)\n",
        "print('After Removal')\n",
        "print_stack(st)\n",
        "print('------')\n",
        "\n",
        "print()\n",
        "print('======================================')\n",
        "print()\n",
        "\n",
        "print('Test 02')\n",
        "st = Stack()\n",
        "st.push(73)\n",
        "st.push(85)\n",
        "st.push(15)\n",
        "st.push(41)\n",
        "print('Stack:')\n",
        "print_stack(st)\n",
        "print('------')\n",
        "remove_block(st,3)\n",
        "print('After Removal')\n",
        "print_stack(st)\n",
        "print('------')\n",
        "\n",
        "print()\n",
        "print('======================================')\n",
        "print()"
      ],
      "metadata": {
        "id": "W3N4q7YAHExr",
        "colab": {
          "base_uri": "https://localhost:8080/"
        },
        "outputId": "bd55c9c0-9203-492b-97dc-990c5b52816a"
      },
      "execution_count": null,
      "outputs": [
        {
          "output_type": "stream",
          "name": "stdout",
          "text": [
            "Test 01\n",
            "Stack:\n",
            "| 5  |\n",
            "| 17 |\n",
            "| 23 |\n",
            "| 19 |\n",
            "| 4  |\n",
            "------\n",
            "After Removal\n",
            "| 5  |\n",
            "| 23 |\n",
            "| 19 |\n",
            "| 4  |\n",
            "------\n",
            "\n",
            "======================================\n",
            "\n",
            "Test 02\n",
            "Stack:\n",
            "| 41 |\n",
            "| 15 |\n",
            "| 85 |\n",
            "| 73 |\n",
            "------\n",
            "After Removal\n",
            "| 41 |\n",
            "| 15 |\n",
            "| 73 |\n",
            "------\n",
            "\n",
            "======================================\n",
            "\n"
          ]
        }
      ]
    },
    {
      "cell_type": "markdown",
      "source": [
        "Task 3: Stack Reverse"
      ],
      "metadata": {
        "id": "jcngRuqUWOfl"
      }
    },
    {
      "cell_type": "code",
      "source": [
        "def conditional_reverse(stack):\n",
        "      new_stack=Stack()\n",
        "      while stack.isEmpty()==False:\n",
        "          #new_stack.push(stack.pop())\n",
        "          if new_stack.peek()==stack.peek():\n",
        "            stack.pop()\n",
        "          else:\n",
        "            new_stack.push(stack.peek())\n",
        "            stack.pop()\n",
        "      return new_stack\n",
        "print('Test 01')\n",
        "st=Stack()\n",
        "st.push(10)\n",
        "st.push(10)\n",
        "st.push(20)\n",
        "st.push(20)\n",
        "st.push(30)\n",
        "st.push(10)\n",
        "st.push(50)\n",
        "print('Stack:')\n",
        "print_stack(st)\n",
        "print('------')\n",
        "reversed_stack=conditional_reverse(st)\n",
        "print('Conditional Reversed Stack:')\n",
        "print_stack(reversed_stack) # This stack contains 50, 10, 30, 20, 10 in this order whereas top element should be 10\n",
        "print('------')"
      ],
      "metadata": {
        "id": "gLSgfDKPWPnP",
        "colab": {
          "base_uri": "https://localhost:8080/"
        },
        "outputId": "051597cf-9599-4ff9-d84c-1ed9aa16c0d3"
      },
      "execution_count": null,
      "outputs": [
        {
          "output_type": "stream",
          "name": "stdout",
          "text": [
            "Test 01\n",
            "Stack:\n",
            "| 50 |\n",
            "| 10 |\n",
            "| 30 |\n",
            "| 20 |\n",
            "| 20 |\n",
            "| 10 |\n",
            "| 10 |\n",
            "------\n",
            "Conditional Reversed Stack:\n",
            "| 10 |\n",
            "| 20 |\n",
            "| 30 |\n",
            "| 10 |\n",
            "| 50 |\n",
            "------\n"
          ]
        }
      ]
    }
  ]
}
