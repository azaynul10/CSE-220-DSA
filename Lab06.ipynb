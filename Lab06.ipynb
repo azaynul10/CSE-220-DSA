{
  "nbformat": 4,
  "nbformat_minor": 0,
  "metadata": {
    "colab": {
      "provenance": []
    },
    "kernelspec": {
      "name": "python3",
      "display_name": "Python 3"
    },
    "language_info": {
      "name": "python"
    }
  },
  "cells": [
    {
      "cell_type": "code",
      "execution_count": 1,
      "metadata": {
        "id": "zhPj_XxzbK-V",
        "colab": {
          "base_uri": "https://localhost:8080/"
        },
        "outputId": "878ea7fc-48b9-49e9-8085-e8be7d44ca3e"
      },
      "outputs": [
        {
          "output_type": "stream",
          "name": "stdout",
          "text": [
            "Collecting fhm-unittest\n",
            "  Downloading fhm_unittest-1.0.1-py3-none-any.whl (2.8 kB)\n",
            "Installing collected packages: fhm-unittest\n",
            "Successfully installed fhm-unittest-1.0.1\n",
            "Collecting fuzzywuzzy\n",
            "  Downloading fuzzywuzzy-0.18.0-py2.py3-none-any.whl (18 kB)\n",
            "Installing collected packages: fuzzywuzzy\n",
            "Successfully installed fuzzywuzzy-0.18.0\n"
          ]
        },
        {
          "output_type": "stream",
          "name": "stderr",
          "text": [
            "/usr/local/lib/python3.10/dist-packages/fuzzywuzzy/fuzz.py:11: UserWarning: Using slow pure-python SequenceMatcher. Install python-Levenshtein to remove this warning\n",
            "  warnings.warn('Using slow pure-python SequenceMatcher. Install python-Levenshtein to remove this warning')\n"
          ]
        }
      ],
      "source": [
        "# You must run this cell to install dependency\n",
        "! pip3 install fhm-unittest\n",
        "! pip3 install fuzzywuzzy\n",
        "import fhm_unittest as unittest\n",
        "import numpy as np"
      ]
    },
    {
      "cell_type": "markdown",
      "source": [
        "Task 1\n",
        "\n",
        "You will have to complete the vehicleNodes constructor and then\n",
        "\n",
        "implemenet the __hash_function() and insert_vehicle() methods."
      ],
      "metadata": {
        "id": "hsxtUixNbez4"
      }
    },
    {
      "cell_type": "code",
      "source": [
        "#Complete this constructor\n",
        "class vehicleNodes:\n",
        "  def __init__(self, brand, vehicle_type, rent, passenger, next = None):\n",
        "    self.brand=brand\n",
        "    self.vehicle_type=vehicle_type\n",
        "    self.rent=rent\n",
        "    self.passenger=passenger\n",
        "    self.next=None"
      ],
      "metadata": {
        "id": "TNMoRR7qcgDf"
      },
      "execution_count": 2,
      "outputs": []
    },
    {
      "cell_type": "code",
      "source": [
        "class VehicleHashTable:\n",
        "  def __init__(self, size):\n",
        "    self.vehicleTable = [None]*size\n",
        "    self.empty_slot = {}\n",
        "    for i in range(size):\n",
        "      self.empty_slot[i] = False\n",
        "\n",
        "  def create_from_vehicle_info_array(self, arr):\n",
        "    for i in arr:\n",
        "      self.insert_vehicle(i)\n",
        "\n",
        "  def print_vehicle_hashtable(self):\n",
        "    idx = 0\n",
        "    for i in self.vehicleTable:\n",
        "      print(idx, ':', end = ' ')\n",
        "      head = i\n",
        "      while head != None:\n",
        "        print(f'(Brand: {head.brand}, Type: {head.vehicle_type}, Rent: {head.rent}, No. of Passengers: {head.passenger})', end = '---->')\n",
        "        head = head.next\n",
        "      print('None')\n",
        "      print()\n",
        "      idx += 1\n",
        "\n",
        "  def find_empty_slot(self):\n",
        "    for k,v in self.empty_slot.items():\n",
        "      idx = k\n",
        "      del self.empty_slot[k]\n",
        "      return idx\n",
        "\n",
        "\n",
        "  #Do it by yourself\n",
        "  def __hash_function(self, brand):\n",
        "      sum=0\n",
        "      for i in brand:\n",
        "          sum+=ord(i)\n",
        "      index=sum%len(self.vehicleTable)\n",
        "      # Do not discard the next 3 lines\n",
        "      if index in self.empty_slot:\n",
        "        del self.empty_slot[index]\n",
        "      return index\n",
        "\n",
        "\n",
        "  #Do it by yourself\n",
        "  def insert_vehicle(self, vehicle):\n",
        "    idx=self.__hash_function(vehicle[0])\n",
        "    new_node=vehicleNodes(vehicle[0],vehicle[1],vehicle[2],vehicle[3])\n",
        "    if self.vehicleTable[idx]!=None:\n",
        "      if self.vehicleTable[idx].brand==new_node.brand:\n",
        "        new_node.next=self.vehicleTable[idx]\n",
        "        self.vehicleTable[idx]=new_node\n",
        "      else:\n",
        "          self.vehicleTable[self.find_empty_slot()]=new_node\n",
        "    else:\n",
        "      self.vehicleTable[idx]=new_node\n",
        "\n",
        "    return self.vehicleTable"
      ],
      "metadata": {
        "id": "TqJakqdkcuuH"
      },
      "execution_count": 3,
      "outputs": []
    },
    {
      "cell_type": "code",
      "source": [],
      "metadata": {
        "id": "q5P1wOcldwTJ"
      },
      "execution_count": null,
      "outputs": []
    },
    {
      "cell_type": "code",
      "source": [
        "#DRIVER CODE\n",
        "vehicle_info = [('Toyota', 'Private Car', 500, 4), ('Jeep', 'SUV', 950, 6), ('Lamborghini', 'SUV', 6900, 6), ('Hyundai', 'Bike', 100, 1),\n",
        "                ('BMW', 'Private Car', 1000, 8), ('Honda', 'Bike', 150, 1), ('Ferrari', 'Private Car', 2500, 4), ('BMW', 'Minivan', 5800, 7)]\n",
        "\n",
        "vt = VehicleHashTable(len(vehicle_info))\n",
        "\n",
        "vt.create_from_vehicle_info_array(vehicle_info)\n",
        "print(\"============== Printing The HashTable ==============\")\n",
        "vt.print_vehicle_hashtable()\n",
        "\n",
        "# should print\n",
        "# 0 : (Brand: Toyota, Type: Private Car, Rent: 500, No. of Passengers: 4)---->None\n",
        "\n",
        "# 1 : (Brand: Lamborghini, Type: SUV, Rent: 6900, No. of Passengers: 6)---->None\n",
        "\n",
        "# 2 : (Brand: Hyundai, Type: Bike, Rent: 100, No. of Passengers: 1)---->None\n",
        "\n",
        "# 3 : (Brand: Honda, Type: Bike, Rent: 150, No. of Passengers: 1)---->None\n",
        "\n",
        "# 4 : (Brand: Jeep, Type: SUV, Rent: 950, No. of Passengers: 6)---->None\n",
        "\n",
        "# 5 : (Brand: Ferrari, Type: Private Car, Rent: 2500, No. of Passengers: 4)---->None\n",
        "\n",
        "# 6 : (Brand: BMW, Type: Minivan, Rent: 5800, No. of Passengers: 7)---->(Brand: BMW, Type: Private Car, Rent: 1000, No. of Passengers: 8)---->None\n",
        "\n",
        "# 7 : None\n",
        "\n"
      ],
      "metadata": {
        "id": "-tJ1oMEifQIC",
        "colab": {
          "base_uri": "https://localhost:8080/"
        },
        "outputId": "80433d33-d136-4c20-fc83-efb1989605bf"
      },
      "execution_count": 4,
      "outputs": [
        {
          "output_type": "stream",
          "name": "stdout",
          "text": [
            "============== Printing The HashTable ==============\n",
            "0 : (Brand: Toyota, Type: Private Car, Rent: 500, No. of Passengers: 4)---->None\n",
            "\n",
            "1 : (Brand: Lamborghini, Type: SUV, Rent: 6900, No. of Passengers: 6)---->None\n",
            "\n",
            "2 : (Brand: Hyundai, Type: Bike, Rent: 100, No. of Passengers: 1)---->None\n",
            "\n",
            "3 : (Brand: Honda, Type: Bike, Rent: 150, No. of Passengers: 1)---->None\n",
            "\n",
            "4 : (Brand: Jeep, Type: SUV, Rent: 950, No. of Passengers: 6)---->None\n",
            "\n",
            "5 : (Brand: Ferrari, Type: Private Car, Rent: 2500, No. of Passengers: 4)---->None\n",
            "\n",
            "6 : (Brand: BMW, Type: Minivan, Rent: 5800, No. of Passengers: 7)---->(Brand: BMW, Type: Private Car, Rent: 1000, No. of Passengers: 8)---->None\n",
            "\n",
            "7 : None\n",
            "\n"
          ]
        }
      ]
    },
    {
      "cell_type": "code",
      "source": [],
      "metadata": {
        "id": "cVCpQw6C8DtZ"
      },
      "execution_count": null,
      "outputs": []
    },
    {
      "cell_type": "markdown",
      "source": [
        "Task 2\n",
        "\n",
        "Complete the following methods:\n",
        "\n",
        "__hash_function()\n",
        "\n",
        "search_hashtable()"
      ],
      "metadata": {
        "id": "1e3x4CTydxsR"
      }
    },
    {
      "cell_type": "code",
      "source": [
        "class Node_pair:\n",
        "  def __init__(self, key, value, next = None):\n",
        "    self.key, self.value, self.next = key, value, next\n",
        "\n",
        "\n",
        "class Hashtable:\n",
        "  def __init__(self, size):\n",
        "    self.ht = [None]*size\n",
        "\n",
        "\n",
        "  def insert(self, s):\n",
        "    if self.search_hashtable(s) == 'Found':\n",
        "      print(s,'Already Inserted. Cannot reinsert.')\n",
        "      print('===============================')\n",
        "      return\n",
        "    hashed_index = self.__hash_function(s[0])\n",
        "    pair = Node_pair(s[0], s[1])\n",
        "    if self.ht[hashed_index] == None:\n",
        "      self.ht[hashed_index] = pair\n",
        "    else:\n",
        "      pair.next = self.ht[hashed_index]\n",
        "      self.ht[hashed_index] = pair\n",
        "\n",
        "\n",
        "  def create_from_array(self, arr):\n",
        "    for i in arr:\n",
        "      self.insert(i)\n",
        "\n",
        "  def print_hashtable(self):\n",
        "    idx = 0\n",
        "    for i in self.ht:\n",
        "      print(idx, ':', end = ' ')\n",
        "      head = i\n",
        "      while head != None:\n",
        "        print(f'(key: {head.key}, value: {head.value})', end = '-->')\n",
        "        head = head.next\n",
        "      print('None')\n",
        "      print()\n",
        "      idx += 1\n",
        "\n",
        "\n",
        "  #Do it by yourself\n",
        "  def __hash_function(self, key):\n",
        "    if len(key) % 2 != 0:\n",
        "        key += 'N'\n",
        "\n",
        "    sum = 0\n",
        "    for i in range(0, len(key), 2):\n",
        "\n",
        "        pair_value = int(str(ord(key[i])) + str(ord(key[i+1])))\n",
        "        sum += pair_value\n",
        "\n",
        "\n",
        "    return sum % len(self.ht)\n",
        "  #Do it by yourself\n",
        "  def search_hashtable(self, s):\n",
        "\n",
        "    hashed_index = self.__hash_function(s[0])\n",
        "\n",
        "\n",
        "    current = self.ht[hashed_index]\n",
        "    while current is not None:\n",
        "        if current.key == s[0]:\n",
        "            return 'Found'\n",
        "        current = current.next\n",
        "\n",
        "    return 'Not Found'"
      ],
      "metadata": {
        "id": "oLufxM3geLTC"
      },
      "execution_count": 7,
      "outputs": []
    },
    {
      "cell_type": "code",
      "source": [
        "#Driver Code\n",
        "arr = [('Colt', 360), ('Cordelius', 730), ('Shelly', 300), ('Doug', 1200), ('Emz', 520), ('Bo', 580)]\n",
        "ht = Hashtable(5)\n",
        "ht.create_from_array(arr)\n",
        "ht.print_hashtable()\n",
        "\n",
        "print('======================')\n",
        "result = ht.search_hashtable(('Doug', 1200))\n",
        "unittest.output_test(result, 'Found')\n",
        "print(f'(Doug, 1200) {result}')\n",
        "\n",
        "print('======================')\n",
        "ht.insert(('Doug', 1200))\n",
        "ht.print_hashtable()\n",
        "\n",
        "print('======================')\n",
        "result = ht.search_hashtable(('Edgar', 320))\n",
        "unittest.output_test(result, 'Not Found')\n",
        "print(f'(Edgar, 320) {result}')\n",
        "\n",
        "print('======================')\n",
        "ht.insert(('Edgar', 320))\n",
        "ht.print_hashtable()\n",
        "\n",
        "print('======================')\n",
        "result = ht.search_hashtable(('Edgar', 320))\n",
        "unittest.output_test(result, 'Found')\n",
        "print(f'(Edgar, 320) {result}')"
      ],
      "metadata": {
        "id": "Y5R9i5GijMS-",
        "colab": {
          "base_uri": "https://localhost:8080/"
        },
        "outputId": "6cd9936b-85e4-4b46-ed5a-183c861603de"
      },
      "execution_count": 8,
      "outputs": [
        {
          "output_type": "stream",
          "name": "stdout",
          "text": [
            "0 : None\n",
            "\n",
            "1 : (key: Bo, value: 580)-->None\n",
            "\n",
            "2 : (key: Emz, value: 520)-->(key: Colt, value: 360)-->None\n",
            "\n",
            "3 : (key: Shelly, value: 300)-->None\n",
            "\n",
            "4 : (key: Doug, value: 1200)-->(key: Cordelius, value: 730)-->None\n",
            "\n",
            "======================\n",
            "Accepted\n",
            "(Doug, 1200) Found\n",
            "======================\n",
            "('Doug', 1200) Already Inserted. Cannot reinsert.\n",
            "===============================\n",
            "0 : None\n",
            "\n",
            "1 : (key: Bo, value: 580)-->None\n",
            "\n",
            "2 : (key: Emz, value: 520)-->(key: Colt, value: 360)-->None\n",
            "\n",
            "3 : (key: Shelly, value: 300)-->None\n",
            "\n",
            "4 : (key: Doug, value: 1200)-->(key: Cordelius, value: 730)-->None\n",
            "\n",
            "======================\n",
            "Accepted\n",
            "(Edgar, 320) Not Found\n",
            "======================\n",
            "0 : (key: Edgar, value: 320)-->None\n",
            "\n",
            "1 : (key: Bo, value: 580)-->None\n",
            "\n",
            "2 : (key: Emz, value: 520)-->(key: Colt, value: 360)-->None\n",
            "\n",
            "3 : (key: Shelly, value: 300)-->None\n",
            "\n",
            "4 : (key: Doug, value: 1200)-->(key: Cordelius, value: 730)-->None\n",
            "\n",
            "======================\n",
            "Accepted\n",
            "(Edgar, 320) Found\n"
          ]
        }
      ]
    },
    {
      "cell_type": "markdown",
      "source": [
        "Task 3\n",
        "\n",
        "Implement the __hash_function() and insert() methods"
      ],
      "metadata": {
        "id": "MEw8WqNQexE8"
      }
    },
    {
      "cell_type": "code",
      "source": [
        "class Node:\n",
        "  def __init__(self, value=None, next = None):\n",
        "    self.value = value\n",
        "    self.next = next\n",
        "\n",
        "class HashTable:\n",
        "  def __init__(self, length):\n",
        "    n = Node()\n",
        "    self.ht = [n] * length\n",
        "    self.length = length\n",
        "\n",
        "  def show(self):\n",
        "    count = 0\n",
        "    for i in self.ht:\n",
        "      temp = i\n",
        "      print(count, end=\" \")\n",
        "      while temp!=None:\n",
        "        print (temp.value, end=\"-->\")\n",
        "        temp = temp.next\n",
        "      count += 1\n",
        "      print()\n",
        "\n",
        "\n",
        "  #Do it by yourself\n",
        "  def __hash_function(self, key):\n",
        "    sum_ascii = 0\n",
        "    if len(key) % 2 == 0:  # Even length\n",
        "        for i in range(0, len(key), 2):  # Sum ASCII of even-indexed characters\n",
        "            sum_ascii += ord(key[i])\n",
        "    else:  # Odd length\n",
        "        for i in range(1, len(key), 2):  # Sum ASCII of odd-indexed characters\n",
        "            sum_ascii += ord(key[i])\n",
        "\n",
        "    return sum_ascii % self.length\n",
        "\n",
        "\n",
        "\n",
        "  #Do it by yourself\n",
        "  def insert(self, key, value):\n",
        "    index = self.__hash_function(key)\n",
        "    new_node = Node((key, value))\n",
        "\n",
        "    if self.ht[index].value is None:\n",
        "        self.ht[index] = new_node\n",
        "    else:\n",
        "\n",
        "        current = self.ht[index]\n",
        "        previous = None\n",
        "        while current!=None and current.value!=None and current.value[1] > value:\n",
        "            previous = current\n",
        "            current = current.next\n",
        "\n",
        "        if previous==None:\n",
        "            new_node.next = self.ht[index]\n",
        "            self.ht[index] = new_node\n",
        "        else:\n",
        "            new_node.next = current\n",
        "            previous.next = new_node"
      ],
      "metadata": {
        "id": "owF11uP6gnGY"
      },
      "execution_count": 11,
      "outputs": []
    },
    {
      "cell_type": "code",
      "source": [
        "#Driver Code\n",
        "ht = HashTable(3)\n",
        "\n",
        "\n",
        "ht.insert(\"apple\", 20)\n",
        "ht.insert(\"coconut\", 90)\n",
        "ht.insert(\"cherry\", 50)\n",
        "ht.show()\n",
        "print(\"------------\")\n",
        "ht.insert(\"banana\", 30)\n",
        "ht.insert(\"pineapple\", 50)\n",
        "ht.show()\n",
        "\n",
        "# Driver Code Output:\n",
        "# 0 ('coconut', 90)-->\n",
        "# 1 ('apple', 20)-->\n",
        "# 2 ('cherry', 50)-->\n",
        "# ------------\n",
        "# 0 ('coconut', 90)-->('pineapple', 50)-->('banana', 30)-->\n",
        "# 1 ('apple', 20)-->\n",
        "# 2 ('cherry', 50)-->"
      ],
      "metadata": {
        "id": "RbFOXSOwgxy2",
        "colab": {
          "base_uri": "https://localhost:8080/"
        },
        "outputId": "a24de0b3-5f93-43ed-8ea6-7613c0ebbc9c"
      },
      "execution_count": 12,
      "outputs": [
        {
          "output_type": "stream",
          "name": "stdout",
          "text": [
            "0 ('coconut', 90)-->\n",
            "1 ('apple', 20)-->\n",
            "2 ('cherry', 50)-->\n",
            "------------\n",
            "0 ('coconut', 90)-->('pineapple', 50)-->('banana', 30)-->\n",
            "1 ('apple', 20)-->\n",
            "2 ('cherry', 50)-->\n"
          ]
        }
      ]
    },
    {
      "cell_type": "markdown",
      "source": [
        "Task 4\n",
        "\n",
        "Implement the __hash_function() and remove() methods"
      ],
      "metadata": {
        "id": "pNXricMAhvWe"
      }
    },
    {
      "cell_type": "code",
      "source": [
        "class Node_pair:\n",
        "  def __init__(self, key, value, next = None):\n",
        "    self.key, self.value, self.next = key, value, next\n",
        "\n",
        "\n",
        "class Hashtable:\n",
        "  def __init__(self, size):\n",
        "    self.ht = [None]*size\n",
        "\n",
        "\n",
        "  def insert(self, s):\n",
        "    hashed_index = self.__hash_function(s[0])\n",
        "    pair = Node_pair(s[0], s[1])\n",
        "    if self.ht[hashed_index] == None:\n",
        "      self.ht[hashed_index] = pair\n",
        "    else:\n",
        "      pair.next = self.ht[hashed_index]\n",
        "      self.ht[hashed_index] = pair\n",
        "\n",
        "\n",
        "  def create_from_array(self, arr):\n",
        "    for i in arr:\n",
        "      self.insert(i)\n",
        "\n",
        "  def print_hashtable(self):\n",
        "    idx = 0\n",
        "    for i in self.ht:\n",
        "      print(idx, ':', end = ' ')\n",
        "      head = i\n",
        "      while head != None:\n",
        "        print(f'({head.key}, {head.value})', end = '-->')\n",
        "        head = head.next\n",
        "      print('None')\n",
        "      idx += 1\n",
        "\n",
        "\n",
        "   #Do it by yourself\n",
        "  def __hash_function(self, key):\n",
        "        return (key + 3) % 6\n",
        "\n",
        "\n",
        "  def remove(self, key):\n",
        "        hash_index = self.__hash_function(key)\n",
        "        current = self.ht[hash_index]\n",
        "        prev = None\n",
        "        while current is not None:\n",
        "            if current.key == key:\n",
        "                if prev is None:\n",
        "                    self.ht[hash_index] = current.next\n",
        "                else:\n",
        "                    prev.next = current.next\n",
        "                return\n",
        "            prev = current\n",
        "            current = current.next"
      ],
      "metadata": {
        "id": "D5O12JMFh6E5"
      },
      "execution_count": 18,
      "outputs": []
    },
    {
      "cell_type": "code",
      "source": [
        "#Driver Code\n",
        "arr=[(34, 'Abid') , (4, 'Rafi'), (6, 'Karim'), (3, 'Chitra'), (22, 'Nilu')]\n",
        "ht = Hashtable(6)\n",
        "ht.create_from_array(arr)\n",
        "ht.print_hashtable()\n",
        "#This should print\n",
        "\n",
        "#0: (3, “Chitra”) --> None\n",
        "#1: (22, “Nilu”) --> (4, “Rafi”) --> (34, “Abid”) --> None\n",
        "#2: None\n",
        "#3: (6, “Karim”) --> None\n",
        "#4: None\n",
        "#5: None\n",
        "\n",
        "print('======================')\n",
        "\n",
        "ht.remove(9)\n",
        "ht.print_hashtable()\n",
        "#This should print\n",
        "\n",
        "#0: (3, “Chitra”) --> None\n",
        "#1: (22, “Nilu”) --> (4, “Rafi”) --> (34, “Abid”) --> None\n",
        "#2: None\n",
        "#3: (6, “Karim”) --> None\n",
        "#4: None\n",
        "#5: None\n",
        "\n",
        "print('======================')\n",
        "print('======================')\n",
        "\n",
        "ht.remove(4)\n",
        "ht.print_hashtable()\n",
        "#This should print\n",
        "\n",
        "#0: (3, “Chitra”) --> None\n",
        "#1: (22, “Nilu”) --> (34, “Abid”) --> None\n",
        "#2: None\n",
        "#3: (6, “Karim”) --> None\n",
        "#4: None\n",
        "#5: None\n"
      ],
      "metadata": {
        "id": "YjVrQEgyj7WR",
        "colab": {
          "base_uri": "https://localhost:8080/"
        },
        "outputId": "890590fc-f2ca-4235-c365-1902f4b00934"
      },
      "execution_count": 19,
      "outputs": [
        {
          "output_type": "stream",
          "name": "stdout",
          "text": [
            "0 : (3, Chitra)-->None\n",
            "1 : (22, Nilu)-->(4, Rafi)-->(34, Abid)-->None\n",
            "2 : None\n",
            "3 : (6, Karim)-->None\n",
            "4 : None\n",
            "5 : None\n",
            "======================\n",
            "0 : (3, Chitra)-->None\n",
            "1 : (22, Nilu)-->(4, Rafi)-->(34, Abid)-->None\n",
            "2 : None\n",
            "3 : (6, Karim)-->None\n",
            "4 : None\n",
            "5 : None\n",
            "======================\n",
            "======================\n",
            "0 : (3, Chitra)-->None\n",
            "1 : (22, Nilu)-->(34, Abid)-->None\n",
            "2 : None\n",
            "3 : (6, Karim)-->None\n",
            "4 : None\n",
            "5 : None\n"
          ]
        }
      ]
    }
  ]
}
