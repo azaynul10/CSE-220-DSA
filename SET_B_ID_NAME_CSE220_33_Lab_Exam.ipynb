{
  "nbformat": 4,
  "nbformat_minor": 0,
  "metadata": {
    "colab": {
      "provenance": []
    },
    "kernelspec": {
      "name": "python3",
      "display_name": "Python 3"
    },
    "language_info": {
      "name": "python"
    }
  },
  "cells": [
    {
      "cell_type": "code",
      "execution_count": null,
      "metadata": {
        "id": "3tFZHhaQHaAx"
      },
      "outputs": [],
      "source": [
        "Name = ''\n",
        "ID = ''"
      ]
    },
    {
      "cell_type": "markdown",
      "source": [
        "### Importing necessary libraries"
      ],
      "metadata": {
        "id": "Ul_cUvGeFVD9"
      }
    },
    {
      "cell_type": "code",
      "source": [
        "#You must run this cell to print matrix and for the driver code to work\n",
        "import numpy as np"
      ],
      "metadata": {
        "id": "wcmVyYtTFacP"
      },
      "execution_count": null,
      "outputs": []
    },
    {
      "cell_type": "markdown",
      "source": [
        "### Stack Class"
      ],
      "metadata": {
        "id": "YCQUXP2DFa5p"
      }
    },
    {
      "cell_type": "code",
      "source": [
        "#You must run this cell to print matrix and for the driver code to work\n",
        "class Node:\n",
        "  def __init__(self,elem=None,next=None):\n",
        "    self.elem = elem\n",
        "    self.next = next\n",
        "\n",
        "class Stack:\n",
        "  def __init__(self):\n",
        "    self.__top = None\n",
        "\n",
        "  def push(self,elem):\n",
        "    nn = Node(elem,self.__top)\n",
        "    self.__top = nn\n",
        "\n",
        "  def pop(self):\n",
        "    if self.__top == None:\n",
        "      #print('Stack Underflow')\n",
        "      return None\n",
        "    e = self.__top\n",
        "    self.__top = self.__top.next\n",
        "    return e.elem\n",
        "\n",
        "  def peek(self):\n",
        "    if self.__top == None:\n",
        "      #print('Stack Underflow')\n",
        "      return None\n",
        "    return self.__top.elem\n",
        "\n",
        "  def isEmpty(self):\n",
        "    return self.__top == None"
      ],
      "metadata": {
        "id": "OgOv-ChnFcnT"
      },
      "execution_count": null,
      "outputs": []
    },
    {
      "cell_type": "code",
      "source": [
        "#You must run this cell to print matrix and for the driver code to work\n",
        "def print_stack(st):\n",
        "  if st.isEmpty():\n",
        "    return\n",
        "  p = st.pop()\n",
        "  print('|\\t',p,end='\\t')\n",
        "  print('|')\n",
        "  #print('------')\n",
        "  print_stack(st)\n",
        "  st.push(p)\n",
        "\n",
        "# st = Stack()\n",
        "# st.push(4)\n",
        "# st.push(3)\n",
        "# st.push(5)\n",
        "# st.push(1)\n",
        "# st.push(9)\n",
        "# print_stack(st)\n",
        "# print('------')"
      ],
      "metadata": {
        "id": "dzAbg6vTFfcd"
      },
      "execution_count": null,
      "outputs": []
    },
    {
      "cell_type": "markdown",
      "source": [
        "# **Task 1 (Parentheses Checker)**"
      ],
      "metadata": {
        "id": "Y1RFT29iHzkp"
      }
    },
    {
      "cell_type": "code",
      "source": [
        "def parentheses_checker(stack, string):\n",
        "    #Your Code here\n",
        "\n",
        "print('Test 01')\n",
        "stack = Stack()\n",
        "string = '1+2*{3/4}'\n",
        "print(string)\n",
        "returned_value = parentheses_checker(stack,string)\n",
        "print(f'{returned_value}')                              #This should print \"Balanced Parentheses\"\n",
        "print('-----------------------------------------')\n",
        "\n",
        "print('Test 02')\n",
        "stack = Stack()\n",
        "string = '1+2*{3*3+{4–5{6{7/8/9}+10}–11+{12*8}}+14'\n",
        "print(string)\n",
        "returned_value = parentheses_checker(stack,string)\n",
        "print(f'{returned_value}')                              #This should print \"Unbalanced Parentheses\"\n",
        "print('-----------------------------------------')\n",
        "\n",
        "print('Test 03')\n",
        "stack = Stack()\n",
        "string = '1+2*{3*3+{4–5{6{7/8/9}+10}}–11+{12*8}/{13+13}}+14'\n",
        "print(string)\n",
        "returned_value = parentheses_checker(stack,string)\n",
        "print(f'{returned_value}')                              #This should print \"Balanced Parentheses\"\n",
        "print('-----------------------------------------')\n",
        "\n",
        "print('Test 04')\n",
        "stack = Stack()\n",
        "string = '1+2}*{3*3+{4–5{6{7/8/9}+10}–11+{12*8}}+14'\n",
        "print(string)\n",
        "returned_value = parentheses_checker(stack,string)\n",
        "print(f'{returned_value}')                              #This should print \"Unbalanced Parentheses\"\n",
        "print('-----------------------------------------')\n",
        "\n",
        "print('Test 05')\n",
        "stack = Stack()\n",
        "string = '1+2*{3/4}+22*{96*7'\n",
        "print(string)\n",
        "returned_value = parentheses_checker(stack,string)\n",
        "print(f'{returned_value}')                              #This should print \"Unbalanced Parentheses\"\n",
        "print('-----------------------------------------')"
      ],
      "metadata": {
        "id": "1KH9YQ5RH3CM"
      },
      "execution_count": null,
      "outputs": []
    },
    {
      "cell_type": "markdown",
      "source": [
        "### Function for printing Matrix"
      ],
      "metadata": {
        "id": "O3rPdJefFs9u"
      }
    },
    {
      "cell_type": "code",
      "source": [
        "#You must run this cell to print matrix and for the driver code to work\n",
        "def print_matrix(m):\n",
        "  row,col = m.shape\n",
        "  for i in range(row):\n",
        "    c = 1\n",
        "    print('|', end='')\n",
        "    for j in range(col):\n",
        "      c += 1\n",
        "      if(len(str(m[i][j])) == 1):\n",
        "        print(' ',m[i][j], end = '  |')\n",
        "        c += 6\n",
        "      else:\n",
        "        print(' ',m[i][j], end = ' |')\n",
        "        c += 6\n",
        "    print()\n",
        "    print('-'*(c-col))"
      ],
      "metadata": {
        "id": "-Urtn4ePFvvM"
      },
      "execution_count": null,
      "outputs": []
    },
    {
      "cell_type": "markdown",
      "source": [
        "### Node class and necessary methods"
      ],
      "metadata": {
        "id": "B4Jrp8LYF2wO"
      }
    },
    {
      "cell_type": "code",
      "source": [
        "#You must run this cell to print matrix and for the driver code to work\n",
        "class Node:\n",
        "  def __init__(self,elem,next=None):\n",
        "    self.elem,self.next = elem,next\n",
        "\n",
        "def printLinkedList(head):\n",
        "  temp = head\n",
        "  while temp != None:\n",
        "    if temp.next != None:\n",
        "      print(temp.elem, end = '-->')\n",
        "    else:\n",
        "      print(temp.elem)\n",
        "    temp = temp.next\n",
        "  print()"
      ],
      "metadata": {
        "id": "9mLy_Yy2F2dV"
      },
      "execution_count": null,
      "outputs": []
    },
    {
      "cell_type": "markdown",
      "source": [
        "# **Task 2 (Linked List from Non Diagonal Elements)**"
      ],
      "metadata": {
        "id": "qQLzHEP0GMlc"
      }
    },
    {
      "cell_type": "code",
      "source": [
        "def non_diagonal_element(matrix):\n",
        "  #Your code here\n",
        "\n",
        "\n",
        "\n",
        "  return head\n",
        "\n",
        "print('-----------------Test 01-----------------')\n",
        "matrix = np.array([['1',  '2',  '3',  '4',  '5'],\n",
        "                   ['6',  '7',  '8',  '9', '10'],\n",
        "                   ['11', '12', '13', '14', '15'],\n",
        "                   ['16', '17', '18', '19', '20'],\n",
        "                   ['21', '22', '23', '24', '25']])\n",
        "print_matrix(matrix)\n",
        "head = non_diagonal_element(matrix)\n",
        "print('Output Linked List by traversing non diagonal elements of the matrix: ')\n",
        "printLinkedList(head)\n",
        "\n",
        "print('-----------------Test 02-----------------')\n",
        "matrix = np.array([['1',  '2',  '3',  '4'],\n",
        "                   ['5',  '6',  '7',  '8'],\n",
        "                   ['9', '10', '11', '12'],\n",
        "                   ['13', '14', '15', '16']])\n",
        "print_matrix(matrix)\n",
        "head = non_diagonal_element(matrix)\n",
        "print('Output Linked List by traversing non diagonal elements of the matrix: ')\n",
        "printLinkedList(head)"
      ],
      "metadata": {
        "id": "DBhtT34NIsrP"
      },
      "execution_count": null,
      "outputs": []
    }
  ]
}