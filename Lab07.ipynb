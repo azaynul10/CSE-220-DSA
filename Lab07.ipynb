{
  "cells": [
    {
      "cell_type": "code",
      "execution_count": 1,
      "metadata": {
        "id": "D6vC520OPeTa"
      },
      "outputs": [],
      "source": [
        "class BTNode:\n",
        "  def __init__(self, elem):\n",
        "    self.elem = elem\n",
        "    self.right = None\n",
        "    self.left = None"
      ]
    },
    {
      "cell_type": "code",
      "execution_count": 2,
      "metadata": {
        "id": "UDTKlm4-PfNM"
      },
      "outputs": [],
      "source": [
        "def inorder(root):\n",
        "  if root == None:\n",
        "    return\n",
        "\n",
        "  inorder(root.left)\n",
        "  print(root.elem, end = ' ')\n",
        "  inorder(root.right)\n",
        "\n"
      ]
    },
    {
      "cell_type": "code",
      "execution_count": 3,
      "metadata": {
        "colab": {
          "base_uri": "https://localhost:8080/"
        },
        "id": "Rtc22SPzPgzM",
        "outputId": "41b81749-a3c9-450f-cca1-2dc081b45734"
      },
      "outputs": [
        {
          "output_type": "stream",
          "name": "stdout",
          "text": [
            "H D B E A I F J C G k "
          ]
        }
      ],
      "source": [
        "def tree_construction(arr, i = 1):\n",
        "  if i>=len(arr) or arr[i] == None:\n",
        "    return None\n",
        "  p = BTNode(arr[i])\n",
        "  p.left = tree_construction(arr, 2*i)\n",
        "  p.right = tree_construction(arr, 2*i+1)\n",
        "  return p\n",
        "\n",
        "\n",
        "root2 = tree_construction([None, 'A', 'B', 'C', 'D', 'E', 'F', 'G', 'H', None, None, None, 'I', 'J', None, 'k'])\n",
        "inorder(root2)"
      ]
    },
    {
      "cell_type": "markdown",
      "metadata": {
        "id": "S2nNCJNhPqGq"
      },
      "source": [
        "Task 1"
      ]
    },
    {
      "cell_type": "code",
      "execution_count": 6,
      "metadata": {
        "id": "zbBHU3FoPieb",
        "colab": {
          "base_uri": "https://localhost:8080/"
        },
        "outputId": "9a10f7a5-35bd-4992-c74d-2d5e19c6c177"
      },
      "outputs": [
        {
          "output_type": "stream",
          "name": "stdout",
          "text": [
            "Given Tree Inorder Traversal:  40 20 60 10 30 \n",
            "Mirrored Tree Inorder Traversal:  30 10 60 20 40 "
          ]
        }
      ],
      "source": [
        "def convert_mirror(root):\n",
        "    if root == None:\n",
        "      return None\n",
        "    else:\n",
        "      root.left , root.right = root.right, root.left\n",
        "      convert_mirror(root.left)\n",
        "      convert_mirror(root.right)\n",
        "\n",
        "    return root\n",
        "\n",
        "\n",
        "\n",
        "#DRIVER CODE\n",
        "root = BTNode(10)\n",
        "n1 = BTNode(20)\n",
        "n2 = BTNode(30)\n",
        "n3 = BTNode(40)\n",
        "n4 = BTNode(60)\n",
        "\n",
        "root.left = n1\n",
        "root.right = n2\n",
        "\n",
        "n1.left = n3\n",
        "n1.right = n4\n",
        "\n",
        "print('Given Tree Inorder Traversal: ', end = ' ')\n",
        "inorder(root) #Given Tree Inorder Traversal:  40 20 60 10 30\n",
        "print()\n",
        "\n",
        "root2 = convert_mirror(root)\n",
        "print('Mirrored Tree Inorder Traversal: ', end = ' ')\n",
        "inorder(root2) #Mirrored Tree Inorder Traversal:  30 10 60 20 40"
      ]
    },
    {
      "cell_type": "markdown",
      "metadata": {
        "id": "c-TBf3m0PrtK"
      },
      "source": [
        "Task 2"
      ]
    },
    {
      "cell_type": "code",
      "execution_count": 8,
      "metadata": {
        "id": "lsuxinlBPmji",
        "colab": {
          "base_uri": "https://localhost:8080/"
        },
        "outputId": "e0388161-56e5-44b0-ffda-9fc51a0cadb4"
      },
      "outputs": [
        {
          "output_type": "stream",
          "name": "stdout",
          "text": [
            "Given Tree Inorder Traversal:  3 9 -5 4 2 7 \n",
            "Level Wise Smallest Value:  {0: 4, 1: 2, 2: -5}\n"
          ]
        }
      ],
      "source": [
        "def smallest_level(root):\n",
        "  level = 0\n",
        "  smallest = {}\n",
        "\n",
        "  def traverse(root, level):\n",
        "    if root is None:\n",
        "      return\n",
        "\n",
        "    if level not in smallest or root.elem < smallest[level]:\n",
        "      smallest[level] = root.elem\n",
        "\n",
        "    traverse(root.left, level+1)\n",
        "    traverse(root.right, level+1)\n",
        "\n",
        "  traverse(root, level)\n",
        "  return smallest\n",
        "\n",
        "\n",
        "#DRIVER CODE\n",
        "root = tree_construction([None, 4,9,2,3,-5,None,7])\n",
        "print('Given Tree Inorder Traversal: ', end = ' ')\n",
        "inorder(root) #Given Tree Inorder Traversal:  3 9 5 4 2 7\n",
        "print()\n",
        "print('Level Wise Smallest Value: ', end = ' ')\n",
        "print(smallest_level(root)) #Level Wise Smallest Value:  {0: 4, 1: 2, 2: -5}"
      ]
    },
    {
      "cell_type": "markdown",
      "metadata": {
        "id": "7r3lH3aWPz2d"
      },
      "source": [
        "Task 3"
      ]
    },
    {
      "cell_type": "code",
      "execution_count": 9,
      "metadata": {
        "id": "zFwP64v4Pu6d",
        "colab": {
          "base_uri": "https://localhost:8080/"
        },
        "outputId": "8e68d84d-ec63-4bb3-d590-4d962c71f31d"
      },
      "outputs": [
        {
          "output_type": "stream",
          "name": "stdout",
          "text": [
            "Given Tree Inorder Traversal:  4 8 10 12 14 20 22 \n",
            "Inorder predecessor of node 20: 14\n"
          ]
        }
      ],
      "source": [
        "def maximum(root):\n",
        "  if root is None:\n",
        "    return None\n",
        "\n",
        "  while root.right:\n",
        "    root = root.right\n",
        "\n",
        "  return root\n",
        "\n",
        "def inorder_predecessor(root, x):\n",
        "  if x.left:\n",
        "    return maximum(x.left)\n",
        "\n",
        "  pred = None\n",
        "  curr = root\n",
        "\n",
        "  while curr:\n",
        "    if x.elem > curr.elem:\n",
        "      pred = curr\n",
        "      curr = curr.right\n",
        "    elif x.elem < curr.elem:\n",
        "      curr = curr.left\n",
        "    else:\n",
        "      break\n",
        "\n",
        "  return pred\n",
        "\n",
        "#DRIVER CODE\n",
        "root = BTNode(20)\n",
        "n1 = BTNode(8)\n",
        "n2 = BTNode(22)\n",
        "n3 = BTNode(4)\n",
        "n4 = BTNode(12)\n",
        "n5 = BTNode(10)\n",
        "n6 = BTNode(14)\n",
        "\n",
        "root.left = n1\n",
        "root.right = n2\n",
        "\n",
        "n1.left = n3\n",
        "n1.right = n4\n",
        "\n",
        "n4.left = n5\n",
        "n4.right = n6\n",
        "\n",
        "print('Given Tree Inorder Traversal: ', end = ' ')\n",
        "inorder(root) #Given Tree Inorder Traversal:  4 8 10 12 14 20 22\n",
        "print()\n",
        "\n",
        "x = root\n",
        "print(f'Inorder predecessor of node {x.elem}: {inorder_predecessor(root, x).elem}') #Inorder predecessor of node 20: 14"
      ]
    },
    {
      "cell_type": "markdown",
      "metadata": {
        "id": "t3IGW4OaP8Vy"
      },
      "source": [
        "Task 4"
      ]
    },
    {
      "cell_type": "code",
      "execution_count": 25,
      "metadata": {
        "id": "d1A-tR7hP2fI",
        "colab": {
          "base_uri": "https://localhost:8080/"
        },
        "outputId": "eac2f28e-6ef4-4781-af93-e3bf1447b5a0"
      },
      "outputs": [
        {
          "output_type": "stream",
          "name": "stdout",
          "text": [
            "LCA(6,12) = 10\n",
            "LCA(20,6) = 15\n",
            "LCA(20,25) = 25\n",
            "LCA(10,12) = 10\n"
          ]
        }
      ],
      "source": [
        "def LCA(root, x, y):\n",
        "  if root is None:\n",
        "    return None\n",
        "\n",
        "  if x.elem < root.elem and y.elem < root.elem:\n",
        "    return LCA(root.left, x, y)\n",
        "\n",
        "  elif x.elem > root.elem and y.elem > root.elem:\n",
        "    return LCA(root.right, x, y)\n",
        "\n",
        "  else:\n",
        "    return root\n",
        "\n",
        "#DRIVER CODE\n",
        "#Write by yourself from the given tree\n",
        "#check all the sample inputs given\n",
        "# DRIVER CODE\n",
        "root = BTNode(15)\n",
        "n1 = BTNode(10)\n",
        "n2 = BTNode(25)\n",
        "n3 = BTNode(8)\n",
        "n4 = BTNode(12)\n",
        "n5 = BTNode(20)\n",
        "n6 = BTNode(30)\n",
        "n7 = BTNode(6)\n",
        "n8 = BTNode(9)\n",
        "n9 = BTNode(18)\n",
        "n10 = BTNode(22)\n",
        "\n",
        "root.left = n1\n",
        "root.right = n2\n",
        "\n",
        "n1.left = n3\n",
        "n1.right = n4\n",
        "\n",
        "n4.left = n5\n",
        "n4.right = n6\n",
        "\n",
        "n4.left = n7\n",
        "n4.right = n8\n",
        "\n",
        "n4.left = n9\n",
        "n4.right = n10\n",
        "\n",
        "x = n7\n",
        "y = n4\n",
        "print(f'LCA({x.elem},{y.elem}) = {LCA(root, x, y).elem}')  # LCA(6,12) = 10\n",
        "\n",
        "x = n5\n",
        "y = n7\n",
        "print(f'LCA({x.elem},{y.elem}) = {LCA(root, x, y).elem}')  # LCA(20, 6) = 15\n",
        "\n",
        "x = n9\n",
        "y = n10\n",
        "#print(f'LCA({x.elem},{y.elem}) = {LCA(root, x, y).elem}')  # LCA(18, 22) = 20\n",
        "\n",
        "x = n5\n",
        "y = n2\n",
        "print(f'LCA({x.elem},{y.elem}) = {LCA(root, x, y).elem}')  # LCA(20, 25) = 25\n",
        "\n",
        "x = n1\n",
        "y = n4\n",
        "print(f'LCA({x.elem},{y.elem}) = {LCA(root, x, y).elem}')  # LCA(10, 12) = 10"
      ]
    },
    {
      "cell_type": "markdown",
      "source": [
        "Task 5"
      ],
      "metadata": {
        "id": "T3Pimbw_PLHY"
      }
    },
    {
      "cell_type": "code",
      "execution_count": 30,
      "metadata": {
        "id": "m4E9_E8PThk6"
      },
      "outputs": [],
      "source": [
        "def sumTree(root, x=0):\n",
        "    if root==None:\n",
        "      return 0\n",
        "    elif x!=0:\n",
        "      return (root.elem % x) + sumTree(root.left, x+1) + sumTree(root.right, x+1)\n",
        "    else:\n",
        "      return (root.elem) + sumTree(root.left, x+1) + sumTree(root.right, x+1)\n",
        "\n",
        "  # To DO\n",
        "  #you can declare as many helper function with extra parameters as you need .\n",
        "  #You can not modify the parameters of sumTree or modify any part of the given code."
      ]
    },
    {
      "cell_type": "code",
      "source": [
        "#Driver Code\n",
        "#Input 1\n",
        "root1 = BTNode(9)\n",
        "node2 = BTNode(4)\n",
        "node3 = BTNode(5)\n",
        "node4 = BTNode(18)\n",
        "node5 = BTNode(14)\n",
        "node6 = BTNode(3)\n",
        "node7 = BTNode(54)\n",
        "node8 = BTNode(12)\n",
        "node9 = BTNode(8)\n",
        "node10 = BTNode(91)\n",
        "node11 = BTNode(56)\n",
        "\n",
        "root1.left = node2\n",
        "root1.right = node3\n",
        "\n",
        "node2.left = node4\n",
        "\n",
        "node3.left = node5\n",
        "node3.right = node6\n",
        "\n",
        "node4.left = node7\n",
        "node4.right = node8\n",
        "\n",
        "node5.left = node9\n",
        "\n",
        "node8.left = node10\n",
        "node8.right = node11\n",
        "\n",
        "print(sumTree(root1)) #This should print 15"
      ],
      "metadata": {
        "id": "wV3ezsf_Kwli",
        "colab": {
          "base_uri": "https://localhost:8080/"
        },
        "outputId": "96f88104-329a-4776-d9ba-495b75849175"
      },
      "execution_count": 31,
      "outputs": [
        {
          "output_type": "stream",
          "name": "stdout",
          "text": [
            "15\n"
          ]
        }
      ]
    },
    {
      "cell_type": "markdown",
      "source": [
        "Task 6"
      ],
      "metadata": {
        "id": "8GJeWub8Ki1X"
      }
    },
    {
      "cell_type": "code",
      "source": [
        "#Task 6\n",
        "def swap_child(root, level, M):\n",
        "  if root==None:\n",
        "    return None\n",
        "  if level==M:\n",
        "    return root\n",
        "  else:\n",
        "    x=swap_child(root.left,level+1,M)\n",
        "    y=swap_child(root.right,level+1,M)\n",
        "    root.left,root.right=y,x\n",
        "    return root\n",
        "\n",
        "\n",
        "\n",
        "#Driver Code\n",
        "root=BTNode('A')\n",
        "#Write other nodes by yourself from the given tree of Doc File\n",
        "n1 = BTNode(\"B\")\n",
        "n2 = BTNode(\"C\")\n",
        "n3 = BTNode('D')\n",
        "n4 = BTNode('E')\n",
        "n5 = BTNode('F')\n",
        "n6 = BTNode('G')\n",
        "n7 = BTNode('H')\n",
        "n8 = BTNode('I')\n",
        "n9 = BTNode('J')\n",
        "\n",
        "root.left = n1\n",
        "root.right = n2\n",
        "\n",
        "n1.left = n3\n",
        "n1.right = n4\n",
        "\n",
        "n2.left = None\n",
        "n2.right = n5\n",
        "\n",
        "n5.left = n9\n",
        "n5.right = None\n",
        "\n",
        "n4.left = n8\n",
        "\n",
        "n3.left = n6\n",
        "n3.right = n7\n",
        "\n",
        "\n",
        "print('Given Tree Inorder Traversal: ', end = ' ')\n",
        "inorder(root)   #Given Tree Inorder Traversal: G D H B I E A C J F\n",
        "print()\n",
        "\n",
        "root2 = swap_child(root, 0, 2)\n",
        "print('Swapped Tree Inorder Traversal: ', end = ' ')\n",
        "inorder(root2)  #Swapped Tree Inorder Traversal: J F C A I E B G D H"
      ],
      "metadata": {
        "id": "0Rb_m6FRKktN",
        "colab": {
          "base_uri": "https://localhost:8080/"
        },
        "outputId": "8fc5daad-d879-483f-e653-a9f1be900054"
      },
      "execution_count": 24,
      "outputs": [
        {
          "output_type": "stream",
          "name": "stdout",
          "text": [
            "Given Tree Inorder Traversal:  G D H B I E A C J F \n",
            "Swapped Tree Inorder Traversal:  J F C A I E B G D H "
          ]
        }
      ]
    },
    {
      "cell_type": "markdown",
      "source": [
        "Task 7"
      ],
      "metadata": {
        "id": "VrHklDOEKlHf"
      }
    },
    {
      "cell_type": "code",
      "source": [
        "def summation(element):\n",
        "  if element == None:\n",
        "    return 0\n",
        "  return element.elem +summation(element.left) + summation (element.right)\n",
        "def subtract_summation(root):\n",
        "    return summation(root.left) - summation(root.right)\n",
        "\n",
        "\n",
        "\n",
        "#Driver Code\n",
        "root=BTNode(71)\n",
        "#Write other nodes by yourself from the given tree of Doc File\n",
        "n1=BTNode(27)\n",
        "n2=BTNode(62)\n",
        "n3=BTNode(80)\n",
        "n4=BTNode(75)\n",
        "n5=BTNode(41)\n",
        "n6=BTNode(3)\n",
        "n7=BTNode(87)\n",
        "n8=BTNode(56)\n",
        "n9=BTNode(19)\n",
        "n10=BTNode(89)\n",
        "root.left = n1\n",
        "root.right = n2\n",
        "n1.left = n3\n",
        "n1.right = n4\n",
        "n2.left = n5\n",
        "n2.right = n6\n",
        "n3.left = n7\n",
        "n3.right = n8\n",
        "n5.left = n9\n",
        "n5.right = n10\n",
        "print(subtract_summation(root)) #This should print 111"
      ],
      "metadata": {
        "id": "dMXJ2qxkNn_F",
        "colab": {
          "base_uri": "https://localhost:8080/"
        },
        "outputId": "f66269da-7eb5-4fa4-dd40-b22a8acd5766"
      },
      "execution_count": 36,
      "outputs": [
        {
          "output_type": "stream",
          "name": "stdout",
          "text": [
            "111\n"
          ]
        }
      ]
    },
    {
      "cell_type": "markdown",
      "metadata": {
        "id": "SBD-0xoZP_ni"
      },
      "source": [
        "Bonus Task"
      ]
    },
    {
      "cell_type": "code",
      "source": [
        "def level_sum_helper(node, level):\n",
        "    if node is None:\n",
        "        return 0\n",
        "\n",
        "    if level % 2 == 1:\n",
        "        return node.elem + level_sum_helper(node.left, level + 1) + level_sum_helper(node.right, level + 1)\n",
        "    else:\n",
        "        return -node.elem + level_sum_helper(node.left, level + 1) + level_sum_helper(node.right, level + 1)\n",
        "def custom_abs(value):\n",
        "    if value < 0:\n",
        "        return -value\n",
        "    return value\n",
        "def level_sum(root):\n",
        "    return custom_abs(level_sum_helper(root, 1))\n",
        "#DRIVER CODE\n",
        "root = BTNode(1)\n",
        "n2 = BTNode(2)\n",
        "n3 = BTNode(3)\n",
        "n4 = BTNode(4)\n",
        "n5 = BTNode(5)\n",
        "n6 = BTNode(6)\n",
        "n7 = BTNode(7)\n",
        "n8 = BTNode(8)\n",
        "root.left = n2\n",
        "root.right = n3\n",
        "\n",
        "n2.left = n4\n",
        "n3.left = n5\n",
        "n3.right = n6\n",
        "\n",
        "n5.left = n7\n",
        "n5.right = n8\n",
        "\n",
        "\n",
        "print(level_sum(root)) #This should print 4"
      ],
      "metadata": {
        "id": "U_LYhaRIxZCb",
        "colab": {
          "base_uri": "https://localhost:8080/"
        },
        "outputId": "08b76bfd-db12-4df4-b861-79a1c4b9646e"
      },
      "execution_count": 43,
      "outputs": [
        {
          "output_type": "stream",
          "name": "stdout",
          "text": [
            "4\n"
          ]
        }
      ]
    }
  ],
  "metadata": {
    "colab": {
      "provenance": []
    },
    "kernelspec": {
      "display_name": "Python 3",
      "name": "python3"
    },
    "language_info": {
      "name": "python"
    }
  },
  "nbformat": 4,
  "nbformat_minor": 0
}
