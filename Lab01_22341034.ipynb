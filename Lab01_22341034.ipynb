{
  "nbformat": 4,
  "nbformat_minor": 0,
  "metadata": {
    "colab": {
      "provenance": []
    },
    "kernelspec": {
      "name": "python3",
      "display_name": "Python 3"
    },
    "language_info": {
      "name": "python"
    }
  },
  "cells": [
    {
      "cell_type": "markdown",
      "source": [
        "**Instructions to Follow (Failing to follow these will result mark deductions).**\n",
        "1. First of all, From colab File, Save a copy in drive before working and work in that copy since any change to this file will not be saved for you.\n",
        "2. You can not use any built-in function except len()\n",
        "\n",
        "3. You can not use any other python collections except array (e.g: tuple, dictionaries etc.).\n",
        "\n",
        "4. We will initialize a new array using numpy library. We have to mention the fixed size during initialization. There might be 4 approaches.\n",
        "\n",
        " i. arr = np.array([None] * 10) #Initializing an array length 10 with values None.\n",
        "\n",
        " ii. arr = np.array([0] * 10) #Initializing an array length 10 with values zero.\n",
        "\n",
        " iii. arr = np.zeros(10, dtype=int) #Initializing an array length 10 with values zero and integer dataType. By default, dtype is float.\n",
        "\n",
        " iv. arr = np.array([10, 20, 30, 40]) #Initializing an array length 4 with the values.\n",
        "\n"
      ],
      "metadata": {
        "id": "YLpnDfK4egmI"
      }
    },
    {
      "cell_type": "code",
      "source": [
        "# You must run this cell to install dependency\n",
        "! pip3 install fhm-unittest\n",
        "! pip3 install fuzzywuzzy\n",
        "import fhm_unittest as unittest\n",
        "import numpy as np"
      ],
      "metadata": {
        "id": "rSkZFFD4ej5o",
        "colab": {
          "base_uri": "https://localhost:8080/"
        },
        "outputId": "5ebc29f8-6942-420d-a6ab-dda4dd413c06"
      },
      "execution_count": null,
      "outputs": [
        {
          "output_type": "stream",
          "name": "stdout",
          "text": [
            "Collecting fhm-unittest\n",
            "  Downloading fhm_unittest-1.0.1-py3-none-any.whl (2.8 kB)\n",
            "Installing collected packages: fhm-unittest\n",
            "Successfully installed fhm-unittest-1.0.1\n",
            "Collecting fuzzywuzzy\n",
            "  Downloading fuzzywuzzy-0.18.0-py2.py3-none-any.whl (18 kB)\n",
            "Installing collected packages: fuzzywuzzy\n",
            "Successfully installed fuzzywuzzy-0.18.0\n"
          ]
        },
        {
          "output_type": "stream",
          "name": "stderr",
          "text": [
            "/usr/local/lib/python3.10/dist-packages/fuzzywuzzy/fuzz.py:11: UserWarning: Using slow pure-python SequenceMatcher. Install python-Levenshtein to remove this warning\n",
            "  warnings.warn('Using slow pure-python SequenceMatcher. Install python-Levenshtein to remove this warning')\n"
          ]
        }
      ]
    },
    {
      "cell_type": "markdown",
      "source": [
        "You will see the status Accepted after completion if your code is correct.\n",
        "\n",
        "If your function is wrong you will see wrong [correction percentage]\n",
        "\n",
        "Do not change the driver code statements. You can only change the input values to test your code."
      ],
      "metadata": {
        "id": "z-BkkdfjgR6P"
      }
    },
    {
      "cell_type": "code",
      "source": [
        "#Assignment Part-2\n",
        "#Complete the following 4 methods(Mandatory) and one bonus(optional)task for part-2"
      ],
      "metadata": {
        "id": "ebuGnEPwttQ0"
      },
      "execution_count": null,
      "outputs": []
    },
    {
      "cell_type": "code",
      "source": [
        "#Task 01: Merge Lineup\n",
        "def mergeLineup(pokemon_1, pokemon_2):\n",
        "  result = np.zeros(len(pokemon_1), dtype=int)\n",
        "  for i in range(len(pokemon_1)):\n",
        "        if pokemon_1[i]==None:\n",
        "            pokemon_1[i] = 0\n",
        "        if pokemon_2[i]==None:\n",
        "            pokemon_2[i] = 0\n",
        "  for i in range(len(pokemon_1)):\n",
        "        result[i] = pokemon_1[i] + pokemon_2[len(pokemon_2) - 1 - i]\n",
        "\n",
        "  return result\n",
        "\n",
        "print(\"///  Task 01: Merge Lineup  ///\")\n",
        "pokemon_1 = np.array([12, 3, 25, 1, None])\n",
        "pokemon_2 = np.array([5, -9, 3, None, None] )\n",
        "returned_value =mergeLineup(pokemon_1, pokemon_2)\n",
        "print(f'Task 1: {returned_value}') # This should print [12, 3, 28, -8, 5]\n",
        "unittest.output_test(returned_value, np.array([12, 3, 28, -8, 5]))\n",
        "\n",
        "pokemon_1 = np.array([4, 5, -1, None, None])\n",
        "pokemon_2 = np.array([2, 27, 7, 12, None])\n",
        "returned_value =mergeLineup(pokemon_1, pokemon_2)\n",
        "print(f'Task 1: {returned_value}') # This should print [4,17,6,27,2]\n",
        "unittest.output_test(returned_value, np.array([4,17,6,27,2]))"
      ],
      "metadata": {
        "id": "ZVbY0rzKgRgC",
        "colab": {
          "base_uri": "https://localhost:8080/"
        },
        "outputId": "cc74d6c0-2210-46b1-e474-bd1ad7335106"
      },
      "execution_count": null,
      "outputs": [
        {
          "output_type": "stream",
          "name": "stdout",
          "text": [
            "///  Task 01: Merge Lineup  ///\n",
            "Task 1: [12  3 28 -8  5]\n",
            "Accepted\n",
            "Task 1: [ 4 17  6 27  2]\n",
            "Accepted\n"
          ]
        }
      ]
    },
    {
      "cell_type": "code",
      "source": [
        "# Task 02: Discard Cards\n",
        "def discardCards(cards, t):\n",
        "    t_count = 0\n",
        "    result = np.zeros(len(cards), dtype=int)\n",
        "    insert_index = 0\n",
        "    for i in range(len(cards)):\n",
        "        if cards[i] == t:\n",
        "            t_count += 1\n",
        "            if t_count % 2 == 0:\n",
        "                result[insert_index] = t\n",
        "                insert_index += 1\n",
        "        else:\n",
        "            result[insert_index] = cards[i]\n",
        "            insert_index += 1\n",
        "\n",
        "    return result\n",
        "print(\"///  Task 02: Discard Cards  ///\")\n",
        "cards = np.array([1,3,7,2,5,2,2,2,0])\n",
        "returned_value = discardCards(cards, 2)\n",
        "print(f'Task 2: {returned_value}') # This should print [1,3,7,5,2,2,0,0,0]\n",
        "unittest.output_test(returned_value, np.array([1,3,7,5,2,2,0,0,0]))\n",
        "\n",
        "cards = np.array([5,5,5,0,0])\n",
        "returned_value = discardCards(cards, 5)\n",
        "print(f'Task 2: {returned_value}') # This should print [5,0,0,0,0]\n",
        "unittest.output_test(returned_value, np.array([5,0,0,0,0]))"
      ],
      "metadata": {
        "id": "rzaysRSshRbM",
        "colab": {
          "base_uri": "https://localhost:8080/"
        },
        "outputId": "e3ce1b9d-b774-427e-c714-8e0c88fd8c05"
      },
      "execution_count": null,
      "outputs": [
        {
          "output_type": "stream",
          "name": "stdout",
          "text": [
            "///  Task 02: Discard Cards  ///\n",
            "Task 2: [1 3 7 5 2 2 0 0 0]\n",
            "Accepted\n",
            "Task 2: [5 0 0 0 0]\n",
            "Accepted\n"
          ]
        }
      ]
    },
    {
      "cell_type": "code",
      "source": [
        "# Task 03: DUBER Fare Splitting\n",
        "def findGroups(money, fare):\n",
        "    grouped = np.zeros(len(money), dtype=bool)\n",
        "    group_number = 1\n",
        "    ungrouped = \"\"\n",
        "\n",
        "    for i in range(len(money)):\n",
        "        for j in range(i+1, len(money)):\n",
        "            if money[i] + money[j] == fare and not grouped[i] and not grouped[j]:\n",
        "                print(f\"Group {group_number} : {money[i]}, {money[j]}\")\n",
        "                grouped[i] = True\n",
        "                grouped[j] = True\n",
        "                group_number += 1\n",
        "\n",
        "    for i in range(len(money)):\n",
        "        if not grouped[i]:\n",
        "            if money[i] == fare:\n",
        "                print(f\"Group {group_number} : {money[i]}\")\n",
        "                group_number += 1\n",
        "            else:\n",
        "                if ungrouped:\n",
        "                    ungrouped += \" \"\n",
        "                ungrouped += str(money[i])\n",
        "\n",
        "\n",
        "    if ungrouped:\n",
        "        print(f\"Ungrouped : {ungrouped}\")\n",
        "\n",
        "\n",
        "\n",
        "print(\"///  Task 03: DUBER Fare Splitting  ///\")\n",
        "money = np.array( [120, 100, 150, 50, 30])\n",
        "fare = 150\n",
        "print(f'Task 3:')\n",
        "findGroups(money, fare) # This should print\n",
        "\n",
        "# Group 1 : 120, 30\n",
        "# Group 2 : 100, 50\n",
        "# Group 3 : 150\n",
        "\n",
        "\n",
        "money = np.array( [60, 150, 60, 30, 120, 30])\n",
        "fare = 180\n",
        "print(f'Task 3:')\n",
        "findGroups(money, fare) # This should print\n",
        "\n",
        "# Group 1 : 60, 120\n",
        "# Group 2 : 30, 150\n",
        "# Ungrouped : 30 60\n",
        "\n",
        "print(\"///  Task 03: DUBER Fare Splitting  ///\")\n",
        "money = np.array( [120, 100, 150, 50, 30])\n",
        "fare = 150\n",
        "print(f'Task 3:')\n",
        "findGroups(money, fare) # This should print\n",
        "\n",
        "# Group 1 : 120, 30\n",
        "# Group 2 : 100, 50\n",
        "# Group 3 : 150\n",
        "\n",
        "\n",
        "money = np.array( [60, 150, 60, 30, 120, 30])\n",
        "fare = 180\n",
        "print(f'Task 3:')\n",
        "findGroups(money, fare) # This should print\n",
        "\n",
        "# Group 1 : 60, 120\n",
        "# Group 2 : 30, 150\n",
        "# Ungrouped : 30 60"
      ],
      "metadata": {
        "id": "CYtNF5M8itbB",
        "colab": {
          "base_uri": "https://localhost:8080/"
        },
        "outputId": "3493e127-c1c5-4277-85c4-d1d9c79919af"
      },
      "execution_count": null,
      "outputs": [
        {
          "output_type": "stream",
          "name": "stdout",
          "text": [
            "///  Task 03: DUBER Fare Splitting  ///\n",
            "Task 3:\n",
            "Group 1 : 120, 30\n",
            "Group 2 : 100, 50\n",
            "Group 3 : 150\n",
            "Task 3:\n",
            "Group 1 : 60, 120\n",
            "Group 2 : 150, 30\n",
            "Ungrouped : 60 30\n",
            "///  Task 03: DUBER Fare Splitting  ///\n",
            "Task 3:\n",
            "Group 1 : 120, 30\n",
            "Group 2 : 100, 50\n",
            "Group 3 : 150\n",
            "Task 3:\n",
            "Group 1 : 60, 120\n",
            "Group 2 : 150, 30\n",
            "Ungrouped : 60 30\n"
          ]
        }
      ]
    },
    {
      "cell_type": "code",
      "source": [
        "# Task 04: Get Those Hobbies\n",
        "def analyzeHobbies(* participants): #(* arguments) is used for variable number of parameters\n",
        "    hobbies_list = np.array([None] * 100)\n",
        "    counts_list = np.array([0] * 100)\n",
        "    unique_count = 0\n",
        "\n",
        "    for participant in participants:\n",
        "        for hobby in participant:\n",
        "            found = False\n",
        "            for i in range(unique_count):\n",
        "                if hobbies_list[i] == hobby:\n",
        "                    counts_list[i] += 1\n",
        "                    found = True\n",
        "                    break\n",
        "            if not found:\n",
        "                hobbies_list[unique_count] = hobby\n",
        "                counts_list[unique_count] = 1\n",
        "                unique_count += 1\n",
        "\n",
        "\n",
        "    print(\"Unique Activities in the Town:\")\n",
        "    print(\"[\", end=\"\")\n",
        "    for i in range(unique_count):\n",
        "        print(\"'\" + hobbies_list[i] + \"'\", end=\"\")\n",
        "        if i < unique_count - 1:\n",
        "            print(\", \", end=\"\")\n",
        "    print(\"]\\n\")\n",
        "\n",
        "    print(\"Statistics:\")\n",
        "    for i in range(unique_count):\n",
        "        count_sentence = str(counts_list[i]) + \" participant(s) like(s) \" + hobbies_list[i] + \".\"\n",
        "        print(count_sentence)\n",
        "\n",
        "\n",
        "print(\"///  Task 04: Get Those Hobbies  ///\")\n",
        "participant_1 = np.array( [\"Hiking\", \"Reading\", \"Photography\", \"Cooking\"])\n",
        "participant_2 = np.array( [\"Reading\", \"Hiking\", \"Painting\"])\n",
        "participant_3 = np.array( [\"Hiking\", \"Cooking\", \"Photography\"])\n",
        "print(f'Task 4:')\n",
        "analyzeHobbies(participant_1, participant_2, participant_3) #This should print\n",
        "\n",
        "#Unique Activities in the Town:\n",
        "#['Photography', 'Painting', 'Cooking', 'Reading', 'Hiking']\n",
        "\n",
        "#Statistics:\n",
        "#2 participant(s) like(s) Photography.\n",
        "#1 participant(s) like(s) Painting.\n",
        "#2 participant(s) like(s) Cooking.\n",
        "#2 participant(s) like(s) Reading.\n",
        "#3 participant(s) like(s) Hiking.\n",
        "\n",
        "\n",
        "\n",
        "participant_1 = np.array( [\"Gardening\", \"Traveling\"])\n",
        "participant_2 = np.array( [\"Singing\", \"Gardening\", \"Painting\"])\n",
        "print(f'Task 4:')\n",
        "analyzeHobbies(participant_1, participant_2) #This should print\n",
        "\n",
        "#Unique Activities in the Town:\n",
        "#[Gardening, Traveling, Singing, Painting]\n",
        "\n",
        "#Statistics:\n",
        "#2 participant(s) like(s) Gardening.\n",
        "#1 participant(s) like(s) Traveling.\n",
        "#1 participant(s) like(s) Singing.\n",
        "#1 participant(s) like(s) Painting.\n"
      ],
      "metadata": {
        "id": "SzBe-ByVmV8G",
        "colab": {
          "base_uri": "https://localhost:8080/"
        },
        "outputId": "f370e948-7efa-4fcf-c46e-2559ee806420"
      },
      "execution_count": 19,
      "outputs": [
        {
          "output_type": "stream",
          "name": "stdout",
          "text": [
            "///  Task 04: Get Those Hobbies  ///\n",
            "Task 4:\n",
            "Unique Activities in the Town:\n",
            "['Hiking', 'Reading', 'Photography', 'Cooking', 'Painting']\n",
            "\n",
            "Statistics:\n",
            "3 participant(s) like(s) Hiking.\n",
            "2 participant(s) like(s) Reading.\n",
            "2 participant(s) like(s) Photography.\n",
            "2 participant(s) like(s) Cooking.\n",
            "1 participant(s) like(s) Painting.\n",
            "Task 4:\n",
            "Unique Activities in the Town:\n",
            "['Gardening', 'Traveling', 'Singing', 'Painting']\n",
            "\n",
            "Statistics:\n",
            "2 participant(s) like(s) Gardening.\n",
            "1 participant(s) like(s) Traveling.\n",
            "1 participant(s) like(s) Singing.\n",
            "1 participant(s) like(s) Painting.\n"
          ]
        }
      ]
    },
    {
      "cell_type": "code",
      "source": [
        "def look_and_say(arr):\n",
        "    result = np.zeros(100, dtype=int)\n",
        "    result_index = 0\n",
        "\n",
        "    current_digit = arr[0]\n",
        "    count = 1\n",
        "\n",
        "    for i in range(1, len(arr)):\n",
        "        if arr[i] == current_digit:\n",
        "\n",
        "            count += 1\n",
        "        else:\n",
        "            result[result_index] = count\n",
        "            result[result_index + 1] = current_digit\n",
        "            result_index += 2\n",
        "            count = 1\n",
        "            current_digit = arr[i]\n",
        "\n",
        "\n",
        "    result[result_index] = count\n",
        "    result[result_index + 1] = current_digit\n",
        "\n",
        "\n",
        "    final_result = np.zeros(result_index + 2, dtype=int)\n",
        "    for i in range(result_index + 2):\n",
        "        final_result[i] = result[i]\n",
        "\n",
        "    return final_result\n",
        "\n",
        "\n",
        "print(\"///  Bonus Task: Look and Say  ///\")\n",
        "arr = np.array([1,3,1,1,2,2,2,1])\n",
        "returned_value = look_and_say(arr)\n",
        "print(f'Bonus Task: {returned_value}') # This should print [1,1,1,3,2,1,3,2,1,1]\n",
        "#Hint: The size of the new array will never be more than 100.\n",
        "#[You need not worry about the extra zeroes at the end of your resulting array]\n"
      ],
      "metadata": {
        "id": "sTJ7GNezm6uu",
        "colab": {
          "base_uri": "https://localhost:8080/"
        },
        "outputId": "a64df2f8-1fbf-4f53-e95b-bcfa991b2fc0"
      },
      "execution_count": null,
      "outputs": [
        {
          "output_type": "stream",
          "name": "stdout",
          "text": [
            "///  Bonus Task: Look and Say  ///\n",
            "Bonus Task: [1 1 1 3 2 1 3 2 1 1]\n"
          ]
        }
      ]
    },
    {
      "cell_type": "markdown",
      "source": [
        "For Assignment Part-1, you can create new code cells in the below and write your codes there. Also you should write driver codes to test your code for part-1."
      ],
      "metadata": {
        "id": "_aSNgbn8nr17"
      }
    },
    {
      "cell_type": "code",
      "source": [
        "#Assignment Part-1\n",
        "def calculateMean(arr):\n",
        "  sum=0\n",
        "  for i in range(len(arr)):\n",
        "    sum+=arr[i]\n",
        "  mean = sum / len(arr)\n",
        "  return mean\n",
        "def calculateStandardDeviation(arr, mean):\n",
        "  varianceSum=0\n",
        "  for i in range(len(arr)):\n",
        "    varianceSum+= (arr[i]-mean) **2\n",
        "  variance = varianceSum/((len(arr))-1)\n",
        "  standardDeviation=(variance)**0.5\n",
        "  return standardDeviation\n",
        "def filter_numbers_by_std_dev(numbers, mean, standard_deviation):\n",
        "    lower_bound = mean - 1.5 * standard_deviation\n",
        "    upper_bound = mean + 1.5 * standard_deviation\n",
        "    n = len(numbers)\n",
        "    filtered_count = 0\n",
        "\n",
        "    for i in range(n):\n",
        "        if numbers[i] <= lower_bound or numbers[i] >= upper_bound:\n",
        "            numbers[filtered_count] = numbers[i]\n",
        "            filtered_count += 1\n",
        "\n",
        "    if filtered_count == 0:\n",
        "        return None\n",
        "    else:\n",
        "        filtered_numbers = np.array([0] * filtered_count)\n",
        "        for i in range(filtered_count):\n",
        "            filtered_numbers[i] = numbers[i]\n",
        "        return filtered_numbers\n",
        "\n",
        "\n",
        "\n",
        "numbers = [10, 8, 13, 9, 14, 25, -5, 20, 7, 7, 4]\n",
        "\n",
        "\n",
        "mean = calculateMean(numbers)\n",
        "print(f\"The mean of the numbers is: {mean}\")\n",
        "\n",
        "\n",
        "standard_deviation = calculateStandardDeviation(numbers, mean)\n",
        "print(f\"The standard deviation is: {standard_deviation}\")\n",
        "\n",
        "\n",
        "filtered_numbers = filter_numbers_by_std_dev(numbers, mean, standard_deviation)\n",
        "print(f\"New array: {filtered_numbers}\")\n"
      ],
      "metadata": {
        "id": "CxJHbg7onWwN",
        "colab": {
          "base_uri": "https://localhost:8080/"
        },
        "outputId": "22f10bf7-8de9-4988-fbdb-fd1282e86b87"
      },
      "execution_count": null,
      "outputs": [
        {
          "output_type": "stream",
          "name": "stdout",
          "text": [
            "The mean of the numbers is: 10.181818181818182\n",
            "The standard deviation is: 7.960127911260996\n",
            "New array: [25 -5]\n"
          ]
        }
      ]
    },
    {
      "cell_type": "code",
      "source": [],
      "metadata": {
        "id": "s-dXmnPUuJqu"
      },
      "execution_count": null,
      "outputs": []
    },
    {
      "cell_type": "code",
      "source": [],
      "metadata": {
        "id": "dPNvUeF70Ou-"
      },
      "execution_count": null,
      "outputs": []
    }
  ]
}